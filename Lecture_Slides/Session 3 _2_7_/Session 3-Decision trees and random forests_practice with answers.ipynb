{
 "cells": [
  {
   "cell_type": "code",
   "execution_count": 1,
   "metadata": {
    "collapsed": true
   },
   "outputs": [],
   "source": [
    "import pandas as pd\n",
    "import numpy as np"
   ]
  },
  {
   "cell_type": "markdown",
   "metadata": {},
   "source": [
    "### Model selection and Cross-validation"
   ]
  },
  {
   "cell_type": "markdown",
   "metadata": {},
   "source": [
    "#### (1) Cross-validation: evaluating estimator performance\n",
    "\n",
    "http://scikit-learn.org/stable/modules/cross_validation.html\n",
    "\n",
    "#### (2) Or it could be used for tuning hyper-parameters.\n",
    "\n",
    "http://scikit-learn.org/stable/modules/grid_search.html#grid-search"
   ]
  },
  {
   "cell_type": "markdown",
   "metadata": {},
   "source": [
    "#### Evaluating estimator performance.\n",
    "Learning the parameters of a prediction function and testing it on the same data is a methodological mistake: a model that would just repeat the labels of the samples that it has just seen would have a perfect score but would fail to predict anything useful on yet-unseen data. This situation is called overfitting. To avoid it, it is common practice when performing supervised machine learning to hold out part of the available data as a test set (X_test, y_test), then to learn a model on the remaining (training) data and evaluate its accuracy on the test data.\n",
    "\n",
    "#### Tuning hyper-parameters\n",
    "If you have a model with important hyper-parameters (e.g., the amount of penalization for Lasso or Ridge regression), you can tune (find good values of) these hyperparameters by further splitting the training data into a training and validation set (still keeping the test data separate from these for a final, unbiased measure of performance).  To tune the hyper-parameters you can try a range of parameter values, learning from the (reduced) training set and evaluating performance on the validation set, and choose the hyper-parameters with best validation set performance.   "
   ]
  },
  {
   "cell_type": "code",
   "execution_count": 2,
   "metadata": {},
   "outputs": [
    {
     "data": {
      "text/html": [
       "<div>\n",
       "<style>\n",
       "    .dataframe thead tr:only-child th {\n",
       "        text-align: right;\n",
       "    }\n",
       "\n",
       "    .dataframe thead th {\n",
       "        text-align: left;\n",
       "    }\n",
       "\n",
       "    .dataframe tbody tr th {\n",
       "        vertical-align: top;\n",
       "    }\n",
       "</style>\n",
       "<table border=\"1\" class=\"dataframe\">\n",
       "  <thead>\n",
       "    <tr style=\"text-align: right;\">\n",
       "      <th></th>\n",
       "      <th>sale_price</th>\n",
       "      <th>gross_sq_feet</th>\n",
       "      <th>mean</th>\n",
       "      <th>Adopt A Basket</th>\n",
       "      <th>Air Quality</th>\n",
       "      <th>Animal Abuse</th>\n",
       "      <th>Animal Facility   No Permit</th>\n",
       "      <th>Animal in a Park</th>\n",
       "      <th>APPLIANCE</th>\n",
       "      <th>Asbestos</th>\n",
       "      <th>...</th>\n",
       "      <th>Unsanitary Pigeon Condition</th>\n",
       "      <th>Urinating in Public</th>\n",
       "      <th>Vacant Lot</th>\n",
       "      <th>Vending</th>\n",
       "      <th>Violation of Park Rules</th>\n",
       "      <th>Water Conservation</th>\n",
       "      <th>Water Quality</th>\n",
       "      <th>Water System</th>\n",
       "      <th>Window Guard</th>\n",
       "      <th>X Ray Machine Equipment</th>\n",
       "    </tr>\n",
       "  </thead>\n",
       "  <tbody>\n",
       "    <tr>\n",
       "      <th>0</th>\n",
       "      <td>600000</td>\n",
       "      <td>1624</td>\n",
       "      <td>80098.0</td>\n",
       "      <td>0.000000</td>\n",
       "      <td>0.027721</td>\n",
       "      <td>0.0</td>\n",
       "      <td>0.000000</td>\n",
       "      <td>0.000770</td>\n",
       "      <td>0.000257</td>\n",
       "      <td>0.001027</td>\n",
       "      <td>...</td>\n",
       "      <td>0.000000</td>\n",
       "      <td>0.000000</td>\n",
       "      <td>0.000000</td>\n",
       "      <td>0.001797</td>\n",
       "      <td>0.001540</td>\n",
       "      <td>0.003850</td>\n",
       "      <td>0.002053</td>\n",
       "      <td>0.049281</td>\n",
       "      <td>0.0</td>\n",
       "      <td>0.0</td>\n",
       "    </tr>\n",
       "    <tr>\n",
       "      <th>1</th>\n",
       "      <td>5200000</td>\n",
       "      <td>3840</td>\n",
       "      <td>149723.0</td>\n",
       "      <td>0.000000</td>\n",
       "      <td>0.010675</td>\n",
       "      <td>0.0</td>\n",
       "      <td>0.000000</td>\n",
       "      <td>0.000227</td>\n",
       "      <td>0.000227</td>\n",
       "      <td>0.003861</td>\n",
       "      <td>...</td>\n",
       "      <td>0.000227</td>\n",
       "      <td>0.000227</td>\n",
       "      <td>0.000000</td>\n",
       "      <td>0.010675</td>\n",
       "      <td>0.000454</td>\n",
       "      <td>0.001817</td>\n",
       "      <td>0.000227</td>\n",
       "      <td>0.050874</td>\n",
       "      <td>0.0</td>\n",
       "      <td>0.0</td>\n",
       "    </tr>\n",
       "    <tr>\n",
       "      <th>2</th>\n",
       "      <td>100000</td>\n",
       "      <td>2120</td>\n",
       "      <td>84085.0</td>\n",
       "      <td>0.000000</td>\n",
       "      <td>0.002511</td>\n",
       "      <td>0.0</td>\n",
       "      <td>0.000000</td>\n",
       "      <td>0.001076</td>\n",
       "      <td>0.001973</td>\n",
       "      <td>0.000359</td>\n",
       "      <td>...</td>\n",
       "      <td>0.000000</td>\n",
       "      <td>0.000000</td>\n",
       "      <td>0.004484</td>\n",
       "      <td>0.000000</td>\n",
       "      <td>0.000179</td>\n",
       "      <td>0.007354</td>\n",
       "      <td>0.001256</td>\n",
       "      <td>0.069058</td>\n",
       "      <td>0.0</td>\n",
       "      <td>0.0</td>\n",
       "    </tr>\n",
       "    <tr>\n",
       "      <th>3</th>\n",
       "      <td>775000</td>\n",
       "      <td>3423</td>\n",
       "      <td>46614.0</td>\n",
       "      <td>0.000000</td>\n",
       "      <td>0.001476</td>\n",
       "      <td>0.0</td>\n",
       "      <td>0.000000</td>\n",
       "      <td>0.000170</td>\n",
       "      <td>0.006756</td>\n",
       "      <td>0.000738</td>\n",
       "      <td>...</td>\n",
       "      <td>0.000170</td>\n",
       "      <td>0.000170</td>\n",
       "      <td>0.000908</td>\n",
       "      <td>0.000568</td>\n",
       "      <td>0.000170</td>\n",
       "      <td>0.000454</td>\n",
       "      <td>0.000341</td>\n",
       "      <td>0.012433</td>\n",
       "      <td>0.0</td>\n",
       "      <td>0.0</td>\n",
       "    </tr>\n",
       "    <tr>\n",
       "      <th>4</th>\n",
       "      <td>151000</td>\n",
       "      <td>2136</td>\n",
       "      <td>44634.0</td>\n",
       "      <td>0.000049</td>\n",
       "      <td>0.001671</td>\n",
       "      <td>0.0</td>\n",
       "      <td>0.000049</td>\n",
       "      <td>0.000344</td>\n",
       "      <td>0.006143</td>\n",
       "      <td>0.000688</td>\n",
       "      <td>...</td>\n",
       "      <td>0.000491</td>\n",
       "      <td>0.000197</td>\n",
       "      <td>0.005897</td>\n",
       "      <td>0.000590</td>\n",
       "      <td>0.000393</td>\n",
       "      <td>0.001622</td>\n",
       "      <td>0.000442</td>\n",
       "      <td>0.037445</td>\n",
       "      <td>0.0</td>\n",
       "      <td>0.0</td>\n",
       "    </tr>\n",
       "  </tbody>\n",
       "</table>\n",
       "<p>5 rows × 162 columns</p>\n",
       "</div>"
      ],
      "text/plain": [
       "   sale_price  gross_sq_feet      mean  Adopt A Basket  Air Quality  \\\n",
       "0      600000           1624   80098.0        0.000000     0.027721   \n",
       "1     5200000           3840  149723.0        0.000000     0.010675   \n",
       "2      100000           2120   84085.0        0.000000     0.002511   \n",
       "3      775000           3423   46614.0        0.000000     0.001476   \n",
       "4      151000           2136   44634.0        0.000049     0.001671   \n",
       "\n",
       "   Animal Abuse  Animal Facility   No Permit  Animal in a Park  APPLIANCE  \\\n",
       "0           0.0                     0.000000          0.000770   0.000257   \n",
       "1           0.0                     0.000000          0.000227   0.000227   \n",
       "2           0.0                     0.000000          0.001076   0.001973   \n",
       "3           0.0                     0.000000          0.000170   0.006756   \n",
       "4           0.0                     0.000049          0.000344   0.006143   \n",
       "\n",
       "   Asbestos           ...             Unsanitary Pigeon Condition  \\\n",
       "0  0.001027           ...                                0.000000   \n",
       "1  0.003861           ...                                0.000227   \n",
       "2  0.000359           ...                                0.000000   \n",
       "3  0.000738           ...                                0.000170   \n",
       "4  0.000688           ...                                0.000491   \n",
       "\n",
       "   Urinating in Public  Vacant Lot   Vending  Violation of Park Rules  \\\n",
       "0             0.000000    0.000000  0.001797                 0.001540   \n",
       "1             0.000227    0.000000  0.010675                 0.000454   \n",
       "2             0.000000    0.004484  0.000000                 0.000179   \n",
       "3             0.000170    0.000908  0.000568                 0.000170   \n",
       "4             0.000197    0.005897  0.000590                 0.000393   \n",
       "\n",
       "   Water Conservation  Water Quality  Water System  Window Guard  \\\n",
       "0            0.003850       0.002053      0.049281           0.0   \n",
       "1            0.001817       0.000227      0.050874           0.0   \n",
       "2            0.007354       0.001256      0.069058           0.0   \n",
       "3            0.000454       0.000341      0.012433           0.0   \n",
       "4            0.001622       0.000442      0.037445           0.0   \n",
       "\n",
       "   X Ray Machine Equipment  \n",
       "0                      0.0  \n",
       "1                      0.0  \n",
       "2                      0.0  \n",
       "3                      0.0  \n",
       "4                      0.0  \n",
       "\n",
       "[5 rows x 162 columns]"
      ]
     },
     "execution_count": 2,
     "metadata": {},
     "output_type": "execute_result"
    }
   ],
   "source": [
    "# Example data: predicting housing price using 311 calls for service\n",
    "path = 'https://serv.cusp.nyu.edu/~cq299/ADS2016/Data/Bayesian/'\n",
    "data4=pd.read_csv(path + \"example4.csv\", low_memory=False)\n",
    "list_311=list(data4.loc[:,\"Adopt A Basket\":\"X Ray Machine Equipment\"].columns)\n",
    "data5=data4[[\"sale_price\",\"gross_sq_feet\",\"mean\"]+list_311]\n",
    "data5.head()"
   ]
  },
  {
   "cell_type": "code",
   "execution_count": 3,
   "metadata": {},
   "outputs": [
    {
     "name": "stdout",
     "output_type": "stream",
     "text": [
      "(2375L, 161L)\n",
      "(2375L,)\n"
     ]
    }
   ],
   "source": [
    "X=np.matrix(data5.iloc[:,1:])\n",
    "y=np.asarray(data5.sale_price)\n",
    "print X.shape\n",
    "print y.shape"
   ]
  },
  {
   "cell_type": "code",
   "execution_count": 4,
   "metadata": {},
   "outputs": [
    {
     "data": {
      "text/plain": [
       "0.8919251381230896"
      ]
     },
     "execution_count": 4,
     "metadata": {},
     "output_type": "execute_result"
    }
   ],
   "source": [
    "# In-sample R^2 value for ridge regression using the whole training dataset\n",
    "from sklearn import linear_model\n",
    "lm=linear_model.LinearRegression()\n",
    "lm.fit(X,y)\n",
    "1-((lm.predict(X)-y)**2).mean()/y.var()"
   ]
  },
  {
   "cell_type": "code",
   "execution_count": 5,
   "metadata": {},
   "outputs": [
    {
     "name": "stdout",
     "output_type": "stream",
     "text": [
      "-0.14311343271\n"
     ]
    }
   ],
   "source": [
    "# How well do we do out of sample?  Let's split the data into 60% training, 40% test, and average performance over 10 random splits\n",
    "from sklearn.model_selection import train_test_split\n",
    "\n",
    "OS=[]\n",
    "for i in range(10):\n",
    "    X_train, X_test, y_train, y_test = train_test_split(X, y, test_size = 0.4, random_state = i)    \n",
    "    lm=linear_model.LinearRegression()\n",
    "    lm.fit(X_train,y_train)\n",
    "    OS.append(1-((lm.predict(X_test)-y_test)**2).mean()/y_test.var()) # or equivalently: OS.append(lm.score(X_test,y_test))\n",
    "print np.mean(OS)"
   ]
  },
  {
   "cell_type": "code",
   "execution_count": 6,
   "metadata": {},
   "outputs": [
    {
     "name": "stdout",
     "output_type": "stream",
     "text": [
      "0.536580673591\n"
     ]
    }
   ],
   "source": [
    "# Does ridge regression do better out of sample?  Let's try with an arbitrary choice of penalization parameter alpha = 1.\n",
    "OS=[]\n",
    "for i in range(10):\n",
    "    X_train, X_test, y_train, y_test = train_test_split(X, y, test_size = 0.4, random_state = i)    \n",
    "    lm=linear_model.Ridge(alpha=1)\n",
    "    lm.fit(X_train,y_train)\n",
    "    OS.append(1-((lm.predict(X_test)-y_test)**2).mean()/y_test.var()) # or equivalently: OS.append(lm.score(X_test,y_test))\n",
    "print np.mean(OS)"
   ]
  },
  {
   "cell_type": "markdown",
   "metadata": {},
   "source": [
    "#### Hyper-parameter tuning.\n",
    "\n",
    "http://scikit-learn.org/stable/modules/grid_search.html#grid-search\n",
    "\n",
    "Exhaustive Grid Search. The grid search provided by GridSearchCV exhaustively generates candidates from a grid of parameter values specified with the param_grid parameter."
   ]
  },
  {
   "cell_type": "markdown",
   "metadata": {},
   "source": [
    "Now let's tune the hyper-parameters for ridge regression and calculate the OS R-squared using the new tuned alpha."
   ]
  },
  {
   "cell_type": "code",
   "execution_count": 7,
   "metadata": {},
   "outputs": [
    {
     "name": "stdout",
     "output_type": "stream",
     "text": [
      "{'alpha': 0.041026581058271942}\n",
      "{'alpha': 0.041026581058271942}\n",
      "{'alpha': 0.0001320088400831418}\n",
      "{'alpha': 0.79340966657974921}\n",
      "{'alpha': 0.36123426997094304}\n",
      "{'alpha': 0.91158882997508273}\n",
      "{'alpha': 0.045005576757004971}\n",
      "{'alpha': 0.00040088063288984648}\n",
      "{'alpha': 0.0001}\n",
      "{'alpha': 0.00027682866303920667}\n",
      "0.565438599794\n"
     ]
    }
   ],
   "source": [
    "from sklearn.model_selection import GridSearchCV\n",
    "param_grid ={'alpha':np.logspace(-4, 0, 200)}\n",
    "\n",
    "OS=[]\n",
    "for i in range(10):\n",
    "    X_train, X_test, y_train, y_test = train_test_split(X, y, test_size = 0.4, random_state = i)\n",
    "    rid=linear_model.Ridge()\n",
    "    gr=GridSearchCV(rid,param_grid=param_grid)\n",
    "    rs=gr.fit(X_train,y_train)\n",
    "    print rs.best_params_\n",
    "    OS.append(1-((rs.predict(X_test)-y_test)**2).mean()/y_test.var())\n",
    "print np.mean(OS)"
   ]
  },
  {
   "cell_type": "markdown",
   "metadata": {
    "collapsed": true
   },
   "source": [
    "### Decision Tree. \n",
    "\n",
    "Stop-and-Frisk Data set: https://en.wikipedia.org/wiki/Stop-and-frisk_in_New_York_City"
   ]
  },
  {
   "cell_type": "markdown",
   "metadata": {},
   "source": [
    "Please download the data set here or on NYU-Classes.\n",
    "https://serv.cusp.nyu.edu/classes/ML_2016_Spring/ML_2017/\n",
    "\n",
    "file: \"session_3_stop.csv\""
   ]
  },
  {
   "cell_type": "code",
   "execution_count": 8,
   "metadata": {
    "collapsed": true
   },
   "outputs": [],
   "source": [
    "data=pd.read_csv(\"session_3_stop.csv\")"
   ]
  },
  {
   "cell_type": "code",
   "execution_count": 9,
   "metadata": {},
   "outputs": [
    {
     "data": {
      "text/plain": [
       "Index([u'suspected.crime', u'found.weapon', u'found.gun', u'arrested',\n",
       "       u'frisked', u'searched', u'summons.issued', u'found.contraband',\n",
       "       u'force.hands', u'force.wall', u'force.ground', u'force.drawn',\n",
       "       u'force.pointed', u'force.baton', u'force.handcuffs', u'force.pepper',\n",
       "       u'force.other', u'suspect.race', u'suspect.age', u'suspect.build',\n",
       "       u'suspect.sex', u'suspect.height', u'suspect.weight',\n",
       "       u'stopped.bc.desc', u'stopped.bc.violent', u'stopped.bc.other',\n",
       "       u'stopped.bc.object', u'stopped.bc.casing', u'stopped.bc.lookout',\n",
       "       u'stopped.bc.drugs', u'stopped.bc.clothing', u'stopped.bc.furtive',\n",
       "       u'stopped.bc.bulge', u'precinct', u'inside.outside',\n",
       "       u'location.housing', u'observation.period', u'officer.uniform',\n",
       "       u'additional.report', u'additional.investigation',\n",
       "       u'additional.proximity', u'additional.evasive',\n",
       "       u'additional.associating', u'additional.direction',\n",
       "       u'additional.highcrime', u'additional.time', u'additional.sights',\n",
       "       u'additional.other', u'radio.run', u'day', u'month', u'time.period',\n",
       "       u'date', u'lat', u'lon'],\n",
       "      dtype='object')"
      ]
     },
     "execution_count": 9,
     "metadata": {},
     "output_type": "execute_result"
    }
   ],
   "source": [
    "data.columns"
   ]
  },
  {
   "cell_type": "code",
   "execution_count": 10,
   "metadata": {},
   "outputs": [
    {
     "name": "stdout",
     "output_type": "stream",
     "text": [
      "        suspect.age  suspect.height  suspect.weight  stopped.bc.desc  \\\n",
      "93338            17        5.750000           175.0            False   \n",
      "145921           15        5.166667           140.0            False   \n",
      "19160            30        5.583333           260.0            False   \n",
      "236337           23        5.333333           170.0            False   \n",
      "46608            29        5.750000           180.0            False   \n",
      "\n",
      "        stopped.bc.violent  stopped.bc.other  stopped.bc.object  \\\n",
      "93338                False             False              False   \n",
      "145921               False              True              False   \n",
      "19160                False              True              False   \n",
      "236337               False             False               True   \n",
      "46608                False             False              False   \n",
      "\n",
      "        stopped.bc.casing  stopped.bc.lookout  stopped.bc.drugs  \\\n",
      "93338               False               False             False   \n",
      "145921               True               False             False   \n",
      "19160               False               False             False   \n",
      "236337              False               False             False   \n",
      "46608               False               False             False   \n",
      "\n",
      "             ...         month_December  month_February  month_January  \\\n",
      "93338        ...                      0               0              0   \n",
      "145921       ...                      0               0              0   \n",
      "19160        ...                      0               1              0   \n",
      "236337       ...                      0               0              0   \n",
      "46608        ...                      0               0              0   \n",
      "\n",
      "        month_July  month_June  month_March  month_May  month_November  \\\n",
      "93338            0           0            0          0               0   \n",
      "145921           0           0            0          0               1   \n",
      "19160            0           0            0          0               0   \n",
      "236337           0           0            0          0               0   \n",
      "46608            0           0            0          0               0   \n",
      "\n",
      "        month_October  month_September  \n",
      "93338               0                1  \n",
      "145921              0                0  \n",
      "19160               0                0  \n",
      "236337              0                0  \n",
      "46608               0                0  \n",
      "\n",
      "[5 rows x 64 columns]\n"
     ]
    }
   ],
   "source": [
    "# remove records with any missing values\n",
    "data=data.dropna()\n",
    "\n",
    "# Let's take \"found.weapon\" as the target variable. \n",
    "y=data.loc[:,\"found.weapon\"]\n",
    "\n",
    "# Get the feature space.  We are using only features from before the stop, getting rid of features from during/after the stop like \"arrested\".\n",
    "X=data.loc[:,\"suspect.race\":\"time.period\"]\n",
    "X=pd.get_dummies(X)\n",
    "\n",
    "# Split data into 70% train, 30% test\n",
    "X_train,X_test,y_train,y_test=train_test_split(X, y, test_size=0.3, random_state=999)\n",
    "print X_train.head()"
   ]
  },
  {
   "cell_type": "markdown",
   "metadata": {},
   "source": [
    "#### Part one: IS and OS Accuracy of prediction. \n",
    "\n",
    "DecisionTreeClassifier:\n",
    "http://scikit-learn.org/stable/modules/generated/sklearn.tree.DecisionTreeClassifier.html#sklearn.tree.DecisionTreeClassifier\n"
   ]
  },
  {
   "cell_type": "code",
   "execution_count": 11,
   "metadata": {},
   "outputs": [
    {
     "name": "stdout",
     "output_type": "stream",
     "text": [
      "In sample accuracy: 0.999980169452\n",
      "Out of sample accuracy: 0.944417453267\n"
     ]
    }
   ],
   "source": [
    "from sklearn.tree import DecisionTreeClassifier\n",
    "\n",
    "# learn model\n",
    "dt=DecisionTreeClassifier()\n",
    "dt.fit(X_train,y_train)\n",
    "\n",
    "# in sample accuracy\n",
    "print 'In sample accuracy:',dt.score(X_train,y_train)\n",
    "\n",
    "# out of sample accuracy\n",
    "print 'Out of sample accuracy:',dt.score(X_test,y_test)"
   ]
  },
  {
   "cell_type": "markdown",
   "metadata": {},
   "source": [
    "### Practice #1: Get the average OS accuracy over 10 train/test splits "
   ]
  },
  {
   "cell_type": "code",
   "execution_count": 12,
   "metadata": {},
   "outputs": [
    {
     "name": "stdout",
     "output_type": "stream",
     "text": [
      "0.943361327041\n"
     ]
    }
   ],
   "source": [
    "OS=[]\n",
    "for i in range(10):\n",
    "    X_train, X_test, y_train, y_test = train_test_split(X, y, test_size = 0.3, random_state = i)    \n",
    "    dt = DecisionTreeClassifier()\n",
    "    dt.fit(X_train,y_train)\n",
    "    OS.append(dt.score(X_test,y_test))\n",
    "print np.mean(OS)"
   ]
  },
  {
   "cell_type": "markdown",
   "metadata": {},
   "source": [
    "#### Does that mean our model is super good? However... "
   ]
  },
  {
   "cell_type": "code",
   "execution_count": 13,
   "metadata": {},
   "outputs": [
    {
     "name": "stdout",
     "output_type": "stream",
     "text": [
      "0.964776513048\n"
     ]
    }
   ],
   "source": [
    "# What would our accuracy be if we predicted 0 (no weapon found) for everyone?\n",
    "print 1.*len(y_test[y_test==0])/len(y_test)"
   ]
  },
  {
   "cell_type": "markdown",
   "metadata": {},
   "source": [
    "### Let's use area under the receiver operating characteristic curve (\"ROC AUC\") instead of accuracy.\n",
    "\n",
    "ROC, Area under the curve:\n",
    "http://scikit-learn.org/stable/modules/model_evaluation.html#roc-metrics\n",
    "\n",
    "https://en.wikipedia.org/wiki/Receiver_operating_characteristic\n",
    "\n",
    "Youtube:\n",
    "https://www.youtube.com/watch?v=hnRBl9-BzjQ"
   ]
  },
  {
   "cell_type": "code",
   "execution_count": 14,
   "metadata": {},
   "outputs": [
    {
     "name": "stdout",
     "output_type": "stream",
     "text": [
      "OS AUC 0.621444808746\n"
     ]
    }
   ],
   "source": [
    "from sklearn.metrics import roc_auc_score\n",
    "AUC_OS=[]\n",
    "for i in range(10):\n",
    "    X_train,X_test,y_train,y_test=train_test_split(X, y, test_size=0.3, random_state=i)\n",
    "    dt=DecisionTreeClassifier()\n",
    "    dt.fit(X_train,y_train)\n",
    "    # predict_proba predicts the probability of each class rather than just the most likely class\n",
    "    pred=dt.predict_proba(X_test)[:,1] # predicted probability of y = 1\n",
    "    AUC_OS.append(roc_auc_score(np.array(y_test),pred))\n",
    "print \"OS AUC\",np.mean(AUC_OS)"
   ]
  },
  {
   "cell_type": "code",
   "execution_count": 15,
   "metadata": {},
   "outputs": [
    {
     "name": "stdout",
     "output_type": "stream",
     "text": [
      "0.499153490506\n"
     ]
    }
   ],
   "source": [
    "# How well would we expect to do just by chance?\n",
    "chance_OS=[]\n",
    "for i in range(10):\n",
    "    X_train,X_test,y_train,y_test=train_test_split(X, y, test_size=0.3, random_state=i)\n",
    "    pred=np.random.random(len(X_test))\n",
    "    chance_OS.append(roc_auc_score(np.array(y_test.apply(int)),pred))\n",
    "print np.mean(chance_OS)"
   ]
  },
  {
   "cell_type": "markdown",
   "metadata": {},
   "source": [
    "### Control the complexity of the Decision Tree."
   ]
  },
  {
   "cell_type": "code",
   "execution_count": 16,
   "metadata": {
    "collapsed": true
   },
   "outputs": [],
   "source": [
    "# Let's just use a single train/test split for this part:\n",
    "X_train,X_test,y_train,y_test=train_test_split(X, y, test_size=0.3,random_state=999)\n",
    "AUC_OS=[]\n",
    "for i in range(2,500,25):\n",
    "    dt=DecisionTreeClassifier(max_leaf_nodes=i)\n",
    "    dt.fit(X_train,y_train)\n",
    "    AUC_OS.append(roc_auc_score(np.array(y_test),dt.predict_proba(X_test)[:,1]))"
   ]
  },
  {
   "cell_type": "code",
   "execution_count": 17,
   "metadata": {},
   "outputs": [
    {
     "data": {
      "image/png": "[encoded data removed]",
      "text/plain": [
       "<matplotlib.figure.Figure at 0xc3aebe0>"
      ]
     },
     "metadata": {},
     "output_type": "display_data"
    }
   ],
   "source": [
    "import matplotlib.pylab as plt\n",
    "plt.figure(figsize=(7,5))\n",
    "plt.plot(range(2,500,25),AUC_OS)\n",
    "plt.xlabel(\"Max leaf nodes\")\n",
    "plt.ylabel(\"OS_AUC\")\n",
    "plt.title(\"AUC vs Simplicity (max leaf nodes)\")\n",
    "plt.xlim(2,500)\n",
    "plt.show()"
   ]
  },
  {
   "cell_type": "code",
   "execution_count": 18,
   "metadata": {},
   "outputs": [
    {
     "data": {
      "text/html": [
       "<div>\n",
       "<style>\n",
       "    .dataframe thead tr:only-child th {\n",
       "        text-align: right;\n",
       "    }\n",
       "\n",
       "    .dataframe thead th {\n",
       "        text-align: left;\n",
       "    }\n",
       "\n",
       "    .dataframe tbody tr th {\n",
       "        vertical-align: top;\n",
       "    }\n",
       "</style>\n",
       "<table border=\"1\" class=\"dataframe\">\n",
       "  <thead>\n",
       "    <tr style=\"text-align: right;\">\n",
       "      <th></th>\n",
       "      <th>0</th>\n",
       "      <th>1</th>\n",
       "      <th>0</th>\n",
       "    </tr>\n",
       "  </thead>\n",
       "  <tbody>\n",
       "    <tr>\n",
       "      <th>0</th>\n",
       "      <td>0.287671</td>\n",
       "      <td>0.712329</td>\n",
       "      <td>True</td>\n",
       "    </tr>\n",
       "    <tr>\n",
       "      <th>1</th>\n",
       "      <td>0.992220</td>\n",
       "      <td>0.007780</td>\n",
       "      <td>False</td>\n",
       "    </tr>\n",
       "    <tr>\n",
       "      <th>2</th>\n",
       "      <td>0.992220</td>\n",
       "      <td>0.007780</td>\n",
       "      <td>False</td>\n",
       "    </tr>\n",
       "    <tr>\n",
       "      <th>3</th>\n",
       "      <td>0.992220</td>\n",
       "      <td>0.007780</td>\n",
       "      <td>False</td>\n",
       "    </tr>\n",
       "    <tr>\n",
       "      <th>4</th>\n",
       "      <td>0.992220</td>\n",
       "      <td>0.007780</td>\n",
       "      <td>False</td>\n",
       "    </tr>\n",
       "  </tbody>\n",
       "</table>\n",
       "</div>"
      ],
      "text/plain": [
       "          0         1      0\n",
       "0  0.287671  0.712329   True\n",
       "1  0.992220  0.007780  False\n",
       "2  0.992220  0.007780  False\n",
       "3  0.992220  0.007780  False\n",
       "4  0.992220  0.007780  False"
      ]
     },
     "execution_count": 18,
     "metadata": {},
     "output_type": "execute_result"
    }
   ],
   "source": [
    "# As an aside: predict_proba vs. predict\n",
    "tm=pd.concat((pd.DataFrame(dt.predict_proba(X_test)),pd.DataFrame(dt.predict(X_test))),axis=1)\n",
    "tm.head(5)"
   ]
  },
  {
   "cell_type": "code",
   "execution_count": 19,
   "metadata": {},
   "outputs": [
    {
     "name": "stdout",
     "output_type": "stream",
     "text": [
      "{'max_depth': 8}\n",
      "0.809441223421\n"
     ]
    }
   ],
   "source": [
    "# This time we'll use max_depth to control the complexity of the tree, still using the same train/test split as above,\n",
    "# and optimize the parameter value using GridSearchCV.\n",
    "param_grid = {'max_depth':range(1,11)}\n",
    "dt=DecisionTreeClassifier()\n",
    "gr=GridSearchCV(dt,param_grid=param_grid,scoring='roc_auc')\n",
    "rs=gr.fit(X_train,y_train)\n",
    "print rs.best_params_\n",
    "print roc_auc_score(np.array(y_test),rs.predict_proba(X_test)[:,1])"
   ]
  },
  {
   "cell_type": "markdown",
   "metadata": {},
   "source": [
    "### Feature Importance\n",
    "Decision trees can be used for feature selection by calculating the Gini importance of each feature (higher = more important)."
   ]
  },
  {
   "cell_type": "code",
   "execution_count": 20,
   "metadata": {},
   "outputs": [
    {
     "data": {
      "text/html": [
       "<div>\n",
       "<style>\n",
       "    .dataframe thead tr:only-child th {\n",
       "        text-align: right;\n",
       "    }\n",
       "\n",
       "    .dataframe thead th {\n",
       "        text-align: left;\n",
       "    }\n",
       "\n",
       "    .dataframe tbody tr th {\n",
       "        vertical-align: top;\n",
       "    }\n",
       "</style>\n",
       "<table border=\"1\" class=\"dataframe\">\n",
       "  <thead>\n",
       "    <tr style=\"text-align: right;\">\n",
       "      <th></th>\n",
       "      <th>variables</th>\n",
       "      <th>importance</th>\n",
       "    </tr>\n",
       "  </thead>\n",
       "  <tbody>\n",
       "    <tr>\n",
       "      <th>6</th>\n",
       "      <td>stopped.bc.object</td>\n",
       "      <td>0.347321</td>\n",
       "    </tr>\n",
       "    <tr>\n",
       "      <th>44</th>\n",
       "      <td>location.housing_transit</td>\n",
       "      <td>0.252415</td>\n",
       "    </tr>\n",
       "    <tr>\n",
       "      <th>13</th>\n",
       "      <td>precinct</td>\n",
       "      <td>0.0701739</td>\n",
       "    </tr>\n",
       "    <tr>\n",
       "      <th>11</th>\n",
       "      <td>stopped.bc.furtive</td>\n",
       "      <td>0.0638076</td>\n",
       "    </tr>\n",
       "    <tr>\n",
       "      <th>15</th>\n",
       "      <td>observation.period</td>\n",
       "      <td>0.0318963</td>\n",
       "    </tr>\n",
       "  </tbody>\n",
       "</table>\n",
       "</div>"
      ],
      "text/plain": [
       "                   variables importance\n",
       "6          stopped.bc.object   0.347321\n",
       "44  location.housing_transit   0.252415\n",
       "13                  precinct  0.0701739\n",
       "11        stopped.bc.furtive  0.0638076\n",
       "15        observation.period  0.0318963"
      ]
     },
     "execution_count": 20,
     "metadata": {},
     "output_type": "execute_result"
    }
   ],
   "source": [
    "dt = DecisionTreeClassifier(max_depth=8)\n",
    "dt.fit(X_train, y_train)\n",
    "Feature_importance=pd.DataFrame([list(X_train.columns),list(dt.feature_importances_)]).T\n",
    "Feature_importance.columns=[\"variables\",\"importance\"]\n",
    "\n",
    "# list the top 5 most important features in order\n",
    "Feature_importance.sort_values(by=\"importance\",ascending=False).iloc[:5,:]"
   ]
  },
  {
   "cell_type": "code",
   "execution_count": 21,
   "metadata": {},
   "outputs": [
    {
     "name": "stdout",
     "output_type": "stream",
     "text": [
      "The AUC score for this simple model with 3 features is 0.765267176308\n"
     ]
    }
   ],
   "source": [
    "# Let's generate our new training and testing model using the top three features.\n",
    "X_train_simple=X_train.loc[:,[\"stopped.bc.object\",\"location.housing_transit\",\"precinct\"]]\n",
    "X_test_simple=X_test.loc[:,[\"stopped.bc.object\",\"location.housing_transit\",\"precinct\"]]\n",
    "\n",
    "# Now let's see the performance of this simple model.\n",
    "dt = DecisionTreeClassifier(max_depth=8)\n",
    "dt.fit(X_train_simple, y_train)\n",
    "print \"The AUC score for this simple model with 3 features is\",roc_auc_score(y_test,dt.predict_proba(X_test_simple)[:,1])"
   ]
  },
  {
   "cell_type": "markdown",
   "metadata": {},
   "source": [
    "### Visualize the Tree we built. "
   ]
  },
  {
   "cell_type": "code",
   "execution_count": 22,
   "metadata": {},
   "outputs": [
    {
     "name": "stdout",
     "output_type": "stream",
     "text": [
      "digraph Tree {\n",
      "node [shape=box, style=\"filled, rounded\", color=\"black\", fontname=helvetica] ;\n",
      "edge [fontname=helvetica] ;\n",
      "0 [label=\"stopped.bc.object <= 0.5, samples = 201709, value = [194674, 7035], class = no weapon found\", fillcolor=\"#e58139f6\"] ;\n",
      "1 [label=\"location.housing_transit <= 0.5, samples = 197033, value = [191647, 5386], class = no weapon found\", fillcolor=\"#e58139f8\"] ;\n",
      "0 -> 1 [labeldistance=2.5, labelangle=45, headlabel=\"True\"] ;\n",
      "2 [label=\"samples = 192689, value = [188560, 4129], class = no weapon found\", fillcolor=\"#e58139f9\"] ;\n",
      "1 -> 2 ;\n",
      "3 [label=\"samples = 4344, value = [3087, 1257], class = no weapon found\", fillcolor=\"#e5813997\"] ;\n",
      "1 -> 3 ;\n",
      "4 [label=\"location.housing_transit <= 0.5, samples = 4676, value = [3027, 1649], class = no weapon found\", fillcolor=\"#e5813974\"] ;\n",
      "0 -> 4 [labeldistance=2.5, labelangle=-45, headlabel=\"False\"] ;\n",
      "5 [label=\"samples = 4083, value = [2798, 1285], class = no weapon found\", fillcolor=\"#e581398a\"] ;\n",
      "4 -> 5 ;\n",
      "6 [label=\"samples = 593, value = [229, 364], class = weapon found\", fillcolor=\"#399de55f\"] ;\n",
      "4 -> 6 ;\n",
      "}\n"
     ]
    }
   ],
   "source": [
    "from sklearn import tree\n",
    "\n",
    "dt = DecisionTreeClassifier(max_depth=2) # just to keep it simple for visualization\n",
    "dt.fit(X_train,y_train)\n",
    "\n",
    "# display the output using www.webgraphviz.com, or if you have GraphViz installed on\n",
    "# your computer, you can use that\n",
    "print tree.export_graphviz(dt,out_file=None,\n",
    "                         feature_names=X_train.columns.values,  \n",
    "                         class_names=['no weapon found','weapon found'],  \n",
    "                         filled=True, rounded=True,  \n",
    "                         special_characters=True,impurity=False).replace(\"<br/>\",\", \").replace(\"&le;\",\"<=\").replace(\"=<\",\"=\\\"\").replace(\">,\",\"\\\",\")"
   ]
  },
  {
   "cell_type": "markdown",
   "metadata": {},
   "source": [
    "If you want to install GraphViz on your own machine:\n",
    "\n",
    "conda install graphviz\n",
    "\n",
    "pip install pydot\n",
    "\n",
    "pip install pydotplus\n",
    "\n",
    "For people who experienced this error: \"GraphViz's executables not found\"\n",
    "\n",
    "http://stackoverflow.com/questions/18438997/why-is-pydot-unable-to-find-graphvizs-executables-in-windows-8"
   ]
  },
  {
   "cell_type": "code",
   "execution_count": null,
   "metadata": {},
   "outputs": [],
   "source": [
    "# This will only work if GraphViz is installed on your machine\n",
    "from sklearn import tree\n",
    "from IPython.display import Image  \n",
    "import pydotplus\n",
    "thestring = tree.export_graphviz(dt, out_file=None,  \n",
    "                         feature_names=X_train.columns.values, \n",
    "                         class_names=['no weapon found','weapon found'],  \n",
    "                         filled=True, rounded=True,  \n",
    "                         special_characters=True,impurity=False)\n",
    "graph = pydotplus.graph_from_dot_data(thestring)  \n",
    "Image(graph.create_png())  "
   ]
  },
  {
   "cell_type": "markdown",
   "metadata": {},
   "source": [
    "### Random Forests\n",
    "\n",
    "http://scikit-learn.org/stable/modules/generated/sklearn.ensemble.RandomForestClassifier.html\n"
   ]
  },
  {
   "cell_type": "code",
   "execution_count": 24,
   "metadata": {},
   "outputs": [
    {
     "name": "stdout",
     "output_type": "stream",
     "text": [
      "0.801993214105\n"
     ]
    }
   ],
   "source": [
    "# same training data as above\n",
    "from sklearn.ensemble import RandomForestClassifier\n",
    "rf = RandomForestClassifier(n_estimators=30, n_jobs=-1,max_leaf_nodes=10)\n",
    "rf.fit(X_train, y_train)\n",
    "pred=rf.predict_proba(X_test)[:,1]\n",
    "print roc_auc_score(y_test,pred)"
   ]
  },
  {
   "cell_type": "markdown",
   "metadata": {},
   "source": [
    "### Practice #2. Let's fix max_leaf_nodes=10, build forests with between 1 and 50 trees, and plot the AUC as a function of number of trees."
   ]
  },
  {
   "cell_type": "code",
   "execution_count": 25,
   "metadata": {},
   "outputs": [
    {
     "name": "stdout",
     "output_type": "stream",
     "text": [
      "[0.68915832534606747, 0.78794911988776128, 0.78905549469930547, 0.79621918814283088, 0.79615310531202932, 0.79683847041708122, 0.7996112328084527, 0.79927778716627362, 0.80405576963983416, 0.80488093028703944]\n"
     ]
    }
   ],
   "source": [
    "AUC=[]\n",
    "for i in range(1,51,5):\n",
    "    rf = RandomForestClassifier(n_estimators=i, n_jobs=-1,max_leaf_nodes=10)\n",
    "    rf.fit(X_train, y_train)\n",
    "    pred=rf.predict_proba(X_test)[:,1]\n",
    "    AUC.append(roc_auc_score(np.array(y_test),pred))\n",
    "print AUC"
   ]
  },
  {
   "cell_type": "code",
   "execution_count": 26,
   "metadata": {},
   "outputs": [
    {
     "data": {
      "image/png": "[encoded data removed]",
      "text/plain": [
       "<matplotlib.figure.Figure at 0x16880c50>"
      ]
     },
     "metadata": {},
     "output_type": "display_data"
    }
   ],
   "source": [
    "plt.figure(figsize=(7,5))\n",
    "plt.plot(range(1,51,5),AUC)\n",
    "plt.xlabel(\"Number of trees in forest\")\n",
    "plt.ylabel(\"OS_AUC\")\n",
    "plt.title(\"AUC vs num_estimators\")\n",
    "plt.xlim(1,51)\n",
    "plt.show()"
   ]
  },
  {
   "cell_type": "markdown",
   "metadata": {},
   "source": [
    "### Practice #3.  Use GridSearchCV to optimize the hyperparameter, num_estimators."
   ]
  },
  {
   "cell_type": "code",
   "execution_count": 27,
   "metadata": {},
   "outputs": [
    {
     "name": "stdout",
     "output_type": "stream",
     "text": [
      "{'n_estimators': 31}\n",
      "0.79869801054\n"
     ]
    }
   ],
   "source": [
    "param_grid = {'n_estimators':range(1,51,5)}\n",
    "rf = RandomForestClassifier(n_jobs=-1,max_leaf_nodes=10)\n",
    "gs = GridSearchCV(rf,param_grid=param_grid,scoring='roc_auc')\n",
    "rs = gs.fit(X_train,y_train)\n",
    "pred=rs.predict_proba(X_test)[:,1]\n",
    "print rs.best_params_\n",
    "print roc_auc_score(np.array(y_test),pred)"
   ]
  },
  {
   "cell_type": "markdown",
   "metadata": {},
   "source": [
    "### Analyze the result (time permitting)\n",
    "\n",
    "For this part, let's select two categorical features, and make two corresponding plots\n",
    "comparing the average model prediction and empirical outcome for\n",
    "each value of that feature. \n",
    "\n",
    "For example, if a chosen feature is\n",
    "‘precinct’, the plot should have a point for each precinct, where the\n",
    "x-value is the average model prediction for all stops in that precinct,\n",
    "and the y-value is the average value of your target variable for all\n",
    "stops in that precinct."
   ]
  },
  {
   "cell_type": "code",
   "execution_count": 28,
   "metadata": {},
   "outputs": [
    {
     "data": {
      "text/html": [
       "<div>\n",
       "<style>\n",
       "    .dataframe thead tr:only-child th {\n",
       "        text-align: right;\n",
       "    }\n",
       "\n",
       "    .dataframe thead th {\n",
       "        text-align: left;\n",
       "    }\n",
       "\n",
       "    .dataframe tbody tr th {\n",
       "        vertical-align: top;\n",
       "    }\n",
       "</style>\n",
       "<table border=\"1\" class=\"dataframe\">\n",
       "  <thead>\n",
       "    <tr style=\"text-align: right;\">\n",
       "      <th></th>\n",
       "      <th>found.weapon</th>\n",
       "      <th>suspect.age</th>\n",
       "      <th>precinct</th>\n",
       "      <th>pred_prob</th>\n",
       "    </tr>\n",
       "  </thead>\n",
       "  <tbody>\n",
       "    <tr>\n",
       "      <th>0</th>\n",
       "      <td>True</td>\n",
       "      <td>38</td>\n",
       "      <td>75</td>\n",
       "      <td>0.458952</td>\n",
       "    </tr>\n",
       "    <tr>\n",
       "      <th>1</th>\n",
       "      <td>False</td>\n",
       "      <td>22</td>\n",
       "      <td>41</td>\n",
       "      <td>0.019597</td>\n",
       "    </tr>\n",
       "    <tr>\n",
       "      <th>2</th>\n",
       "      <td>False</td>\n",
       "      <td>33</td>\n",
       "      <td>26</td>\n",
       "      <td>0.024773</td>\n",
       "    </tr>\n",
       "    <tr>\n",
       "      <th>3</th>\n",
       "      <td>False</td>\n",
       "      <td>44</td>\n",
       "      <td>79</td>\n",
       "      <td>0.024897</td>\n",
       "    </tr>\n",
       "    <tr>\n",
       "      <th>4</th>\n",
       "      <td>False</td>\n",
       "      <td>21</td>\n",
       "      <td>40</td>\n",
       "      <td>0.017082</td>\n",
       "    </tr>\n",
       "  </tbody>\n",
       "</table>\n",
       "</div>"
      ],
      "text/plain": [
       "   found.weapon  suspect.age  precinct  pred_prob\n",
       "0          True           38        75   0.458952\n",
       "1         False           22        41   0.019597\n",
       "2         False           33        26   0.024773\n",
       "3         False           44        79   0.024897\n",
       "4         False           21        40   0.017082"
      ]
     },
     "execution_count": 28,
     "metadata": {},
     "output_type": "execute_result"
    }
   ],
   "source": [
    "rf = RandomForestClassifier(n_estimators=50, n_jobs=4,max_leaf_nodes=30)\n",
    "rf.fit(X_train, y_train)\n",
    "\n",
    "# Let's pick two features, age and precinct, and save them with the result\n",
    "result=X_test.loc[:,['suspect.age','precinct']]\n",
    "result=pd.concat((y_test,result),axis=1)\n",
    "result['pred_prob']=rf.predict_proba(X_test)[:,1]\n",
    "result.index=range(len(result))\n",
    "result.head()"
   ]
  },
  {
   "cell_type": "code",
   "execution_count": 29,
   "metadata": {},
   "outputs": [
    {
     "data": {
      "text/html": [
       "<div>\n",
       "<style>\n",
       "    .dataframe thead tr:only-child th {\n",
       "        text-align: right;\n",
       "    }\n",
       "\n",
       "    .dataframe thead th {\n",
       "        text-align: left;\n",
       "    }\n",
       "\n",
       "    .dataframe tbody tr th {\n",
       "        vertical-align: top;\n",
       "    }\n",
       "</style>\n",
       "<table border=\"1\" class=\"dataframe\">\n",
       "  <thead>\n",
       "    <tr style=\"text-align: right;\">\n",
       "      <th></th>\n",
       "      <th>precinct</th>\n",
       "      <th>found.weapon</th>\n",
       "      <th>pred_prob</th>\n",
       "    </tr>\n",
       "  </thead>\n",
       "  <tbody>\n",
       "    <tr>\n",
       "      <th>0</th>\n",
       "      <td>1</td>\n",
       "      <td>0.178571</td>\n",
       "      <td>0.209004</td>\n",
       "    </tr>\n",
       "    <tr>\n",
       "      <th>1</th>\n",
       "      <td>5</td>\n",
       "      <td>0.127168</td>\n",
       "      <td>0.116693</td>\n",
       "    </tr>\n",
       "    <tr>\n",
       "      <th>2</th>\n",
       "      <td>6</td>\n",
       "      <td>0.133858</td>\n",
       "      <td>0.121137</td>\n",
       "    </tr>\n",
       "    <tr>\n",
       "      <th>3</th>\n",
       "      <td>7</td>\n",
       "      <td>0.063232</td>\n",
       "      <td>0.059619</td>\n",
       "    </tr>\n",
       "    <tr>\n",
       "      <th>4</th>\n",
       "      <td>9</td>\n",
       "      <td>0.080780</td>\n",
       "      <td>0.067923</td>\n",
       "    </tr>\n",
       "  </tbody>\n",
       "</table>\n",
       "</div>"
      ],
      "text/plain": [
       "   precinct  found.weapon  pred_prob\n",
       "0         1      0.178571   0.209004\n",
       "1         5      0.127168   0.116693\n",
       "2         6      0.133858   0.121137\n",
       "3         7      0.063232   0.059619\n",
       "4         9      0.080780   0.067923"
      ]
     },
     "execution_count": 29,
     "metadata": {},
     "output_type": "execute_result"
    }
   ],
   "source": [
    "aa=result.groupby(\"precinct\").apply(lambda x: x.loc[:,[\"found.weapon\",\"pred_prob\"]].mean()).reset_index()\n",
    "aa.head()"
   ]
  },
  {
   "cell_type": "code",
   "execution_count": 30,
   "metadata": {},
   "outputs": [
    {
     "data": {
      "image/png": "[encoded data removed]",
      "text/plain": [
       "<matplotlib.figure.Figure at 0x17592278>"
      ]
     },
     "metadata": {},
     "output_type": "display_data"
    }
   ],
   "source": [
    "# For precinct:\n",
    "plt.figure(figsize=(8,7.5))\n",
    "plt.scatter(list(aa.loc[:,\"pred_prob\"]),list(aa.loc[:,\"found.weapon\"]),c=\"r\")\n",
    "plt.title('Predicted weapon probability vs Real weapon probability by \"Precinct\"')\n",
    "plt.xlabel(\"Predicted\")\n",
    "plt.ylabel(\"Real\")\n",
    "plt.xlim(0,0.5)\n",
    "plt.ylim(-0.01,0.5)\n",
    "plt.plot(list(aa.loc[:,\"found.weapon\"]),list(aa.loc[:,\"found.weapon\"]),'-b')\n",
    "\n",
    "#Let's label the precincts for which our model does not work well.\n",
    "for label, x, y in zip(list(aa.precinct), list(aa.loc[:,\"pred_prob\"]), list(aa.loc[:,\"found.weapon\"])):\n",
    "    if x-y>0.05:\n",
    "        \n",
    "        plt.annotate(\n",
    "            label, \n",
    "            xy = (x, y), xytext = (30, -30),\n",
    "            textcoords = 'offset points', ha = 'right', va = 'bottom',\n",
    "            bbox = dict(boxstyle = 'round,pad=0.5', fc = 'yellow', alpha = 0.5),\n",
    "            arrowprops = dict(arrowstyle = '->', connectionstyle = 'arc3,rad=0'))\n",
    "    if x-y<-0.05:\n",
    "        plt.annotate(\n",
    "            label, \n",
    "            xy = (x, y), xytext = (-20, 20),\n",
    "            textcoords = 'offset points', ha = 'right', va = 'bottom',\n",
    "            bbox = dict(boxstyle = 'round,pad=0.5', fc = 'yellow', alpha = 0.5),\n",
    "            arrowprops = dict(arrowstyle = '->', connectionstyle = 'arc3,rad=0'))\n",
    "plt.show()"
   ]
  },
  {
   "cell_type": "markdown",
   "metadata": {},
   "source": [
    "### Practice #4\n",
    "\n",
    "Repeat this process and plot the result for \"suspect.age\" or for any feature you prefer."
   ]
  },
  {
   "cell_type": "code",
   "execution_count": 31,
   "metadata": {},
   "outputs": [
    {
     "data": {
      "text/html": [
       "<div>\n",
       "<style>\n",
       "    .dataframe thead tr:only-child th {\n",
       "        text-align: right;\n",
       "    }\n",
       "\n",
       "    .dataframe thead th {\n",
       "        text-align: left;\n",
       "    }\n",
       "\n",
       "    .dataframe tbody tr th {\n",
       "        vertical-align: top;\n",
       "    }\n",
       "</style>\n",
       "<table border=\"1\" class=\"dataframe\">\n",
       "  <thead>\n",
       "    <tr style=\"text-align: right;\">\n",
       "      <th></th>\n",
       "      <th>suspect.age</th>\n",
       "      <th>found.weapon</th>\n",
       "      <th>pred_prob</th>\n",
       "    </tr>\n",
       "  </thead>\n",
       "  <tbody>\n",
       "    <tr>\n",
       "      <th>0</th>\n",
       "      <td>10</td>\n",
       "      <td>0.000000</td>\n",
       "      <td>0.022017</td>\n",
       "    </tr>\n",
       "    <tr>\n",
       "      <th>1</th>\n",
       "      <td>11</td>\n",
       "      <td>0.000000</td>\n",
       "      <td>0.036882</td>\n",
       "    </tr>\n",
       "    <tr>\n",
       "      <th>2</th>\n",
       "      <td>12</td>\n",
       "      <td>0.013158</td>\n",
       "      <td>0.029421</td>\n",
       "    </tr>\n",
       "    <tr>\n",
       "      <th>3</th>\n",
       "      <td>13</td>\n",
       "      <td>0.029316</td>\n",
       "      <td>0.032304</td>\n",
       "    </tr>\n",
       "    <tr>\n",
       "      <th>4</th>\n",
       "      <td>14</td>\n",
       "      <td>0.026056</td>\n",
       "      <td>0.029766</td>\n",
       "    </tr>\n",
       "  </tbody>\n",
       "</table>\n",
       "</div>"
      ],
      "text/plain": [
       "   suspect.age  found.weapon  pred_prob\n",
       "0           10      0.000000   0.022017\n",
       "1           11      0.000000   0.036882\n",
       "2           12      0.013158   0.029421\n",
       "3           13      0.029316   0.032304\n",
       "4           14      0.026056   0.029766"
      ]
     },
     "execution_count": 31,
     "metadata": {},
     "output_type": "execute_result"
    }
   ],
   "source": [
    "aa=result.groupby('suspect.age').apply(lambda x: x.loc[:,[\"found.weapon\",\"pred_prob\"]].mean()).reset_index()\n",
    "aa.head()"
   ]
  },
  {
   "cell_type": "code",
   "execution_count": 32,
   "metadata": {},
   "outputs": [
    {
     "data": {
      "image/png": "[encoded data removed]",
      "text/plain": [
       "<matplotlib.figure.Figure at 0x1a446a20>"
      ]
     },
     "metadata": {},
     "output_type": "display_data"
    }
   ],
   "source": [
    "# For age:\n",
    "plt.figure(figsize=(8,7.5))\n",
    "plt.scatter(list(aa.loc[:,\"pred_prob\"]),list(aa.loc[:,\"found.weapon\"]),c=\"r\")\n",
    "plt.title('Predicted weapon probability vs Real weapon probability by \"Age\"')\n",
    "plt.xlabel(\"Predicted\")\n",
    "plt.ylabel(\"Real\")\n",
    "plt.xlim(0,0.17)\n",
    "plt.ylim(-0.01,0.19)\n",
    "plt.plot(list(aa.loc[:,\"found.weapon\"]),list(aa.loc[:,\"found.weapon\"]),'-b')\n",
    "\n",
    "#Let's label the ages for which our model does not work well.\n",
    "for label, x, y in zip(list(aa.loc[:,\"suspect.age\"]), list(aa.loc[:,\"pred_prob\"]), list(aa.loc[:,\"found.weapon\"])):\n",
    "    if x-y>0.04:\n",
    "        \n",
    "        plt.annotate(\n",
    "            label, \n",
    "            xy = (x, y), xytext = (30, -30),\n",
    "            textcoords = 'offset points', ha = 'right', va = 'bottom',\n",
    "            bbox = dict(boxstyle = 'round,pad=0.5', fc = 'yellow', alpha = 0.5),\n",
    "            arrowprops = dict(arrowstyle = '->', connectionstyle = 'arc3,rad=0'))\n",
    "    if x-y<-0.04:\n",
    "        plt.annotate(\n",
    "            label, \n",
    "            xy = (x, y), xytext = (-20, 20),\n",
    "            textcoords = 'offset points', ha = 'right', va = 'bottom',\n",
    "            bbox = dict(boxstyle = 'round,pad=0.5', fc = 'yellow', alpha = 0.5),\n",
    "            arrowprops = dict(arrowstyle = '->', connectionstyle = 'arc3,rad=0'))\n",
    "plt.show()"
   ]
  }
 ],
 "metadata": {
  "anaconda-cloud": {},
  "kernelspec": {
   "display_name": "Python 2",
   "language": "python",
   "name": "python2"
  },
  "language_info": {
   "codemirror_mode": {
    "name": "ipython",
    "version": 2
   },
   "file_extension": ".py",
   "mimetype": "text/x-python",
   "name": "python",
   "nbconvert_exporter": "python",
   "pygments_lexer": "ipython2",
   "version": "2.7.13"
  }
 },
 "nbformat": 4,
 "nbformat_minor": 2
}
